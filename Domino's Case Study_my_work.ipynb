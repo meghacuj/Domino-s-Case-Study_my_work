{
 "cells": [
  {
   "cell_type": "code",
   "execution_count": 1,
   "id": "9f98d7cc",
   "metadata": {},
   "outputs": [],
   "source": [
    "import pandas as pd\n",
    "import numpy as np\n",
    "import warnings\n",
    "warnings.filterwarnings('ignore')"
   ]
  },
  {
   "cell_type": "markdown",
   "id": "cde6ee8f",
   "metadata": {},
   "source": [
    "### Problem Statement:Performance by looking at the metric - which is 95th Percentile on Order Delivery time should be less than 31 mins.\n"
   ]
  },
  {
   "cell_type": "code",
   "execution_count": 2,
   "id": "513e0bf1",
   "metadata": {},
   "outputs": [
    {
     "data": {
      "text/html": [
       "<div>\n",
       "<style scoped>\n",
       "    .dataframe tbody tr th:only-of-type {\n",
       "        vertical-align: middle;\n",
       "    }\n",
       "\n",
       "    .dataframe tbody tr th {\n",
       "        vertical-align: top;\n",
       "    }\n",
       "\n",
       "    .dataframe thead th {\n",
       "        text-align: right;\n",
       "    }\n",
       "</style>\n",
       "<table border=\"1\" class=\"dataframe\">\n",
       "  <thead>\n",
       "    <tr style=\"text-align: right;\">\n",
       "      <th></th>\n",
       "      <th>order_id</th>\n",
       "      <th>order_placed_at</th>\n",
       "      <th>order_delivered_at</th>\n",
       "    </tr>\n",
       "  </thead>\n",
       "  <tbody>\n",
       "    <tr>\n",
       "      <th>0</th>\n",
       "      <td>1523111</td>\n",
       "      <td>2023-03-01 00:00:59</td>\n",
       "      <td>2023-03-01 00:18:07.443132</td>\n",
       "    </tr>\n",
       "    <tr>\n",
       "      <th>1</th>\n",
       "      <td>1523112</td>\n",
       "      <td>2023-03-01 00:03:59</td>\n",
       "      <td>2023-03-01 00:19:34.925241</td>\n",
       "    </tr>\n",
       "    <tr>\n",
       "      <th>2</th>\n",
       "      <td>1523113</td>\n",
       "      <td>2023-03-01 00:07:22</td>\n",
       "      <td>2023-03-01 00:22:28.291385</td>\n",
       "    </tr>\n",
       "    <tr>\n",
       "      <th>3</th>\n",
       "      <td>1523114</td>\n",
       "      <td>2023-03-01 00:07:47</td>\n",
       "      <td>2023-03-01 00:46:19.019399</td>\n",
       "    </tr>\n",
       "    <tr>\n",
       "      <th>4</th>\n",
       "      <td>1523115</td>\n",
       "      <td>2023-03-01 00:09:03</td>\n",
       "      <td>2023-03-01 00:25:13.619056</td>\n",
       "    </tr>\n",
       "    <tr>\n",
       "      <th>...</th>\n",
       "      <td>...</td>\n",
       "      <td>...</td>\n",
       "      <td>...</td>\n",
       "    </tr>\n",
       "    <tr>\n",
       "      <th>14995</th>\n",
       "      <td>1538106</td>\n",
       "      <td>2023-03-27 23:37:05</td>\n",
       "      <td>2023-03-27 23:52:37.409378</td>\n",
       "    </tr>\n",
       "    <tr>\n",
       "      <th>14996</th>\n",
       "      <td>1538107</td>\n",
       "      <td>2023-03-27 23:47:38</td>\n",
       "      <td>2023-03-28 00:04:22.672912</td>\n",
       "    </tr>\n",
       "    <tr>\n",
       "      <th>14997</th>\n",
       "      <td>1538108</td>\n",
       "      <td>2023-03-27 23:50:16</td>\n",
       "      <td>2023-03-28 00:05:40.676238</td>\n",
       "    </tr>\n",
       "    <tr>\n",
       "      <th>14998</th>\n",
       "      <td>1538109</td>\n",
       "      <td>2023-03-27 23:52:44</td>\n",
       "      <td>2023-03-28 00:08:41.810358</td>\n",
       "    </tr>\n",
       "    <tr>\n",
       "      <th>14999</th>\n",
       "      <td>1538110</td>\n",
       "      <td>2023-03-27 23:58:20</td>\n",
       "      <td>2023-03-28 00:13:42.499311</td>\n",
       "    </tr>\n",
       "  </tbody>\n",
       "</table>\n",
       "<p>15000 rows × 3 columns</p>\n",
       "</div>"
      ],
      "text/plain": [
       "       order_id      order_placed_at          order_delivered_at\n",
       "0       1523111  2023-03-01 00:00:59  2023-03-01 00:18:07.443132\n",
       "1       1523112  2023-03-01 00:03:59  2023-03-01 00:19:34.925241\n",
       "2       1523113  2023-03-01 00:07:22  2023-03-01 00:22:28.291385\n",
       "3       1523114  2023-03-01 00:07:47  2023-03-01 00:46:19.019399\n",
       "4       1523115  2023-03-01 00:09:03  2023-03-01 00:25:13.619056\n",
       "...         ...                  ...                         ...\n",
       "14995   1538106  2023-03-27 23:37:05  2023-03-27 23:52:37.409378\n",
       "14996   1538107  2023-03-27 23:47:38  2023-03-28 00:04:22.672912\n",
       "14997   1538108  2023-03-27 23:50:16  2023-03-28 00:05:40.676238\n",
       "14998   1538109  2023-03-27 23:52:44  2023-03-28 00:08:41.810358\n",
       "14999   1538110  2023-03-27 23:58:20  2023-03-28 00:13:42.499311\n",
       "\n",
       "[15000 rows x 3 columns]"
      ]
     },
     "execution_count": 2,
     "metadata": {},
     "output_type": "execute_result"
    }
   ],
   "source": [
    "df=pd.read_csv('diminos_data.csv')\n",
    "df"
   ]
  },
  {
   "cell_type": "code",
   "execution_count": 3,
   "id": "1f7e4e5d",
   "metadata": {},
   "outputs": [
    {
     "data": {
      "text/plain": [
       "(15000, 3)"
      ]
     },
     "execution_count": 3,
     "metadata": {},
     "output_type": "execute_result"
    }
   ],
   "source": [
    "df.shape"
   ]
  },
  {
   "cell_type": "code",
   "execution_count": 4,
   "id": "94c9169c",
   "metadata": {},
   "outputs": [
    {
     "data": {
      "text/html": [
       "<div>\n",
       "<style scoped>\n",
       "    .dataframe tbody tr th:only-of-type {\n",
       "        vertical-align: middle;\n",
       "    }\n",
       "\n",
       "    .dataframe tbody tr th {\n",
       "        vertical-align: top;\n",
       "    }\n",
       "\n",
       "    .dataframe thead th {\n",
       "        text-align: right;\n",
       "    }\n",
       "</style>\n",
       "<table border=\"1\" class=\"dataframe\">\n",
       "  <thead>\n",
       "    <tr style=\"text-align: right;\">\n",
       "      <th></th>\n",
       "      <th>order_id</th>\n",
       "      <th>order_placed_at</th>\n",
       "      <th>order_delivered_at</th>\n",
       "    </tr>\n",
       "  </thead>\n",
       "  <tbody>\n",
       "    <tr>\n",
       "      <th>0</th>\n",
       "      <td>1523111</td>\n",
       "      <td>2023-03-01 00:00:59</td>\n",
       "      <td>2023-03-01 00:18:07.443132</td>\n",
       "    </tr>\n",
       "    <tr>\n",
       "      <th>1</th>\n",
       "      <td>1523112</td>\n",
       "      <td>2023-03-01 00:03:59</td>\n",
       "      <td>2023-03-01 00:19:34.925241</td>\n",
       "    </tr>\n",
       "    <tr>\n",
       "      <th>2</th>\n",
       "      <td>1523113</td>\n",
       "      <td>2023-03-01 00:07:22</td>\n",
       "      <td>2023-03-01 00:22:28.291385</td>\n",
       "    </tr>\n",
       "    <tr>\n",
       "      <th>3</th>\n",
       "      <td>1523114</td>\n",
       "      <td>2023-03-01 00:07:47</td>\n",
       "      <td>2023-03-01 00:46:19.019399</td>\n",
       "    </tr>\n",
       "    <tr>\n",
       "      <th>4</th>\n",
       "      <td>1523115</td>\n",
       "      <td>2023-03-01 00:09:03</td>\n",
       "      <td>2023-03-01 00:25:13.619056</td>\n",
       "    </tr>\n",
       "  </tbody>\n",
       "</table>\n",
       "</div>"
      ],
      "text/plain": [
       "   order_id      order_placed_at          order_delivered_at\n",
       "0   1523111  2023-03-01 00:00:59  2023-03-01 00:18:07.443132\n",
       "1   1523112  2023-03-01 00:03:59  2023-03-01 00:19:34.925241\n",
       "2   1523113  2023-03-01 00:07:22  2023-03-01 00:22:28.291385\n",
       "3   1523114  2023-03-01 00:07:47  2023-03-01 00:46:19.019399\n",
       "4   1523115  2023-03-01 00:09:03  2023-03-01 00:25:13.619056"
      ]
     },
     "execution_count": 4,
     "metadata": {},
     "output_type": "execute_result"
    }
   ],
   "source": [
    "df.head()"
   ]
  },
  {
   "cell_type": "code",
   "execution_count": 5,
   "id": "244621db",
   "metadata": {},
   "outputs": [
    {
     "name": "stdout",
     "output_type": "stream",
     "text": [
      "<class 'pandas.core.frame.DataFrame'>\n",
      "RangeIndex: 15000 entries, 0 to 14999\n",
      "Data columns (total 3 columns):\n",
      " #   Column              Non-Null Count  Dtype \n",
      "---  ------              --------------  ----- \n",
      " 0   order_id            15000 non-null  int64 \n",
      " 1   order_placed_at     15000 non-null  object\n",
      " 2   order_delivered_at  15000 non-null  object\n",
      "dtypes: int64(1), object(2)\n",
      "memory usage: 351.7+ KB\n"
     ]
    }
   ],
   "source": [
    "df.info()"
   ]
  },
  {
   "cell_type": "code",
   "execution_count": 6,
   "id": "289cc161",
   "metadata": {},
   "outputs": [
    {
     "name": "stdout",
     "output_type": "stream",
     "text": [
      "datetime64[ns]\n"
     ]
    }
   ],
   "source": [
    "df['order_placed_at']=pd.to_datetime(df['order_placed_at'])\n",
    "print(df['order_placed_at'].dtypes)"
   ]
  },
  {
   "cell_type": "code",
   "execution_count": 7,
   "id": "42ba6a8b",
   "metadata": {},
   "outputs": [
    {
     "name": "stdout",
     "output_type": "stream",
     "text": [
      "datetime64[ns]\n"
     ]
    }
   ],
   "source": [
    "df['order_delivered_at']=pd.to_datetime(df['order_delivered_at'])\n",
    "print(df['order_delivered_at'].dtypes)"
   ]
  },
  {
   "cell_type": "code",
   "execution_count": 8,
   "id": "0c84c1bb",
   "metadata": {},
   "outputs": [
    {
     "name": "stdout",
     "output_type": "stream",
     "text": [
      "<class 'pandas.core.frame.DataFrame'>\n",
      "RangeIndex: 15000 entries, 0 to 14999\n",
      "Data columns (total 3 columns):\n",
      " #   Column              Non-Null Count  Dtype         \n",
      "---  ------              --------------  -----         \n",
      " 0   order_id            15000 non-null  int64         \n",
      " 1   order_placed_at     15000 non-null  datetime64[ns]\n",
      " 2   order_delivered_at  15000 non-null  datetime64[ns]\n",
      "dtypes: datetime64[ns](2), int64(1)\n",
      "memory usage: 351.7 KB\n"
     ]
    }
   ],
   "source": [
    "df.info()"
   ]
  },
  {
   "cell_type": "code",
   "execution_count": 9,
   "id": "95e3b648",
   "metadata": {},
   "outputs": [
    {
     "data": {
      "text/plain": [
       "order_id              0\n",
       "order_placed_at       0\n",
       "order_delivered_at    0\n",
       "dtype: int64"
      ]
     },
     "execution_count": 9,
     "metadata": {},
     "output_type": "execute_result"
    }
   ],
   "source": [
    "df.isnull().sum()"
   ]
  },
  {
   "cell_type": "code",
   "execution_count": 10,
   "id": "036423b1",
   "metadata": {},
   "outputs": [
    {
     "name": "stdout",
     "output_type": "stream",
     "text": [
      "0        2023-03-01\n",
      "1        2023-03-01\n",
      "2        2023-03-01\n",
      "3        2023-03-01\n",
      "4        2023-03-01\n",
      "            ...    \n",
      "14995    2023-03-27\n",
      "14996    2023-03-27\n",
      "14997    2023-03-27\n",
      "14998    2023-03-27\n",
      "14999    2023-03-27\n",
      "Name: order_placed_date, Length: 15000, dtype: object\n"
     ]
    }
   ],
   "source": [
    "df['order_placed_date']=df['order_placed_at'].dt.date\n",
    "print(df['order_placed_date'])  \n"
   ]
  },
  {
   "cell_type": "code",
   "execution_count": 11,
   "id": "f28543ce",
   "metadata": {},
   "outputs": [
    {
     "data": {
      "text/html": [
       "<div>\n",
       "<style scoped>\n",
       "    .dataframe tbody tr th:only-of-type {\n",
       "        vertical-align: middle;\n",
       "    }\n",
       "\n",
       "    .dataframe tbody tr th {\n",
       "        vertical-align: top;\n",
       "    }\n",
       "\n",
       "    .dataframe thead th {\n",
       "        text-align: right;\n",
       "    }\n",
       "</style>\n",
       "<table border=\"1\" class=\"dataframe\">\n",
       "  <thead>\n",
       "    <tr style=\"text-align: right;\">\n",
       "      <th></th>\n",
       "      <th>order_id</th>\n",
       "      <th>order_placed_at</th>\n",
       "      <th>order_delivered_at</th>\n",
       "      <th>order_placed_date</th>\n",
       "    </tr>\n",
       "  </thead>\n",
       "  <tbody>\n",
       "    <tr>\n",
       "      <th>0</th>\n",
       "      <td>1523111</td>\n",
       "      <td>2023-03-01 00:00:59</td>\n",
       "      <td>2023-03-01 00:18:07.443132</td>\n",
       "      <td>2023-03-01</td>\n",
       "    </tr>\n",
       "    <tr>\n",
       "      <th>1</th>\n",
       "      <td>1523112</td>\n",
       "      <td>2023-03-01 00:03:59</td>\n",
       "      <td>2023-03-01 00:19:34.925241</td>\n",
       "      <td>2023-03-01</td>\n",
       "    </tr>\n",
       "    <tr>\n",
       "      <th>2</th>\n",
       "      <td>1523113</td>\n",
       "      <td>2023-03-01 00:07:22</td>\n",
       "      <td>2023-03-01 00:22:28.291385</td>\n",
       "      <td>2023-03-01</td>\n",
       "    </tr>\n",
       "    <tr>\n",
       "      <th>3</th>\n",
       "      <td>1523114</td>\n",
       "      <td>2023-03-01 00:07:47</td>\n",
       "      <td>2023-03-01 00:46:19.019399</td>\n",
       "      <td>2023-03-01</td>\n",
       "    </tr>\n",
       "    <tr>\n",
       "      <th>4</th>\n",
       "      <td>1523115</td>\n",
       "      <td>2023-03-01 00:09:03</td>\n",
       "      <td>2023-03-01 00:25:13.619056</td>\n",
       "      <td>2023-03-01</td>\n",
       "    </tr>\n",
       "    <tr>\n",
       "      <th>...</th>\n",
       "      <td>...</td>\n",
       "      <td>...</td>\n",
       "      <td>...</td>\n",
       "      <td>...</td>\n",
       "    </tr>\n",
       "    <tr>\n",
       "      <th>14995</th>\n",
       "      <td>1538106</td>\n",
       "      <td>2023-03-27 23:37:05</td>\n",
       "      <td>2023-03-27 23:52:37.409378</td>\n",
       "      <td>2023-03-27</td>\n",
       "    </tr>\n",
       "    <tr>\n",
       "      <th>14996</th>\n",
       "      <td>1538107</td>\n",
       "      <td>2023-03-27 23:47:38</td>\n",
       "      <td>2023-03-28 00:04:22.672912</td>\n",
       "      <td>2023-03-27</td>\n",
       "    </tr>\n",
       "    <tr>\n",
       "      <th>14997</th>\n",
       "      <td>1538108</td>\n",
       "      <td>2023-03-27 23:50:16</td>\n",
       "      <td>2023-03-28 00:05:40.676238</td>\n",
       "      <td>2023-03-27</td>\n",
       "    </tr>\n",
       "    <tr>\n",
       "      <th>14998</th>\n",
       "      <td>1538109</td>\n",
       "      <td>2023-03-27 23:52:44</td>\n",
       "      <td>2023-03-28 00:08:41.810358</td>\n",
       "      <td>2023-03-27</td>\n",
       "    </tr>\n",
       "    <tr>\n",
       "      <th>14999</th>\n",
       "      <td>1538110</td>\n",
       "      <td>2023-03-27 23:58:20</td>\n",
       "      <td>2023-03-28 00:13:42.499311</td>\n",
       "      <td>2023-03-27</td>\n",
       "    </tr>\n",
       "  </tbody>\n",
       "</table>\n",
       "<p>15000 rows × 4 columns</p>\n",
       "</div>"
      ],
      "text/plain": [
       "       order_id     order_placed_at         order_delivered_at  \\\n",
       "0       1523111 2023-03-01 00:00:59 2023-03-01 00:18:07.443132   \n",
       "1       1523112 2023-03-01 00:03:59 2023-03-01 00:19:34.925241   \n",
       "2       1523113 2023-03-01 00:07:22 2023-03-01 00:22:28.291385   \n",
       "3       1523114 2023-03-01 00:07:47 2023-03-01 00:46:19.019399   \n",
       "4       1523115 2023-03-01 00:09:03 2023-03-01 00:25:13.619056   \n",
       "...         ...                 ...                        ...   \n",
       "14995   1538106 2023-03-27 23:37:05 2023-03-27 23:52:37.409378   \n",
       "14996   1538107 2023-03-27 23:47:38 2023-03-28 00:04:22.672912   \n",
       "14997   1538108 2023-03-27 23:50:16 2023-03-28 00:05:40.676238   \n",
       "14998   1538109 2023-03-27 23:52:44 2023-03-28 00:08:41.810358   \n",
       "14999   1538110 2023-03-27 23:58:20 2023-03-28 00:13:42.499311   \n",
       "\n",
       "      order_placed_date  \n",
       "0            2023-03-01  \n",
       "1            2023-03-01  \n",
       "2            2023-03-01  \n",
       "3            2023-03-01  \n",
       "4            2023-03-01  \n",
       "...                 ...  \n",
       "14995        2023-03-27  \n",
       "14996        2023-03-27  \n",
       "14997        2023-03-27  \n",
       "14998        2023-03-27  \n",
       "14999        2023-03-27  \n",
       "\n",
       "[15000 rows x 4 columns]"
      ]
     },
     "execution_count": 11,
     "metadata": {},
     "output_type": "execute_result"
    }
   ],
   "source": [
    "df"
   ]
  },
  {
   "cell_type": "code",
   "execution_count": 12,
   "id": "09d59dd3",
   "metadata": {},
   "outputs": [
    {
     "name": "stdout",
     "output_type": "stream",
     "text": [
      "0       0 days 00:17:08.443132\n",
      "1       0 days 00:15:35.925241\n",
      "2       0 days 00:15:06.291385\n",
      "3       0 days 00:38:32.019399\n",
      "4       0 days 00:16:10.619056\n",
      "                 ...          \n",
      "14995   0 days 00:15:32.409378\n",
      "14996   0 days 00:16:44.672912\n",
      "14997   0 days 00:15:24.676238\n",
      "14998   0 days 00:15:57.810358\n",
      "14999   0 days 00:15:22.499311\n",
      "Name: total_time_taken, Length: 15000, dtype: timedelta64[ns]\n"
     ]
    }
   ],
   "source": [
    "df['total_time_taken'] = (df['order_delivered_at'] - df['order_placed_at'])\n",
    "print(df['total_time_taken'])"
   ]
  },
  {
   "cell_type": "code",
   "execution_count": 13,
   "id": "6a31c62e",
   "metadata": {},
   "outputs": [
    {
     "data": {
      "text/html": [
       "<div>\n",
       "<style scoped>\n",
       "    .dataframe tbody tr th:only-of-type {\n",
       "        vertical-align: middle;\n",
       "    }\n",
       "\n",
       "    .dataframe tbody tr th {\n",
       "        vertical-align: top;\n",
       "    }\n",
       "\n",
       "    .dataframe thead th {\n",
       "        text-align: right;\n",
       "    }\n",
       "</style>\n",
       "<table border=\"1\" class=\"dataframe\">\n",
       "  <thead>\n",
       "    <tr style=\"text-align: right;\">\n",
       "      <th></th>\n",
       "      <th>order_id</th>\n",
       "      <th>order_placed_at</th>\n",
       "      <th>order_delivered_at</th>\n",
       "      <th>order_placed_date</th>\n",
       "      <th>total_time_taken</th>\n",
       "    </tr>\n",
       "  </thead>\n",
       "  <tbody>\n",
       "    <tr>\n",
       "      <th>0</th>\n",
       "      <td>1523111</td>\n",
       "      <td>2023-03-01 00:00:59</td>\n",
       "      <td>2023-03-01 00:18:07.443132</td>\n",
       "      <td>2023-03-01</td>\n",
       "      <td>0 days 00:17:08.443132</td>\n",
       "    </tr>\n",
       "    <tr>\n",
       "      <th>1</th>\n",
       "      <td>1523112</td>\n",
       "      <td>2023-03-01 00:03:59</td>\n",
       "      <td>2023-03-01 00:19:34.925241</td>\n",
       "      <td>2023-03-01</td>\n",
       "      <td>0 days 00:15:35.925241</td>\n",
       "    </tr>\n",
       "    <tr>\n",
       "      <th>2</th>\n",
       "      <td>1523113</td>\n",
       "      <td>2023-03-01 00:07:22</td>\n",
       "      <td>2023-03-01 00:22:28.291385</td>\n",
       "      <td>2023-03-01</td>\n",
       "      <td>0 days 00:15:06.291385</td>\n",
       "    </tr>\n",
       "    <tr>\n",
       "      <th>3</th>\n",
       "      <td>1523114</td>\n",
       "      <td>2023-03-01 00:07:47</td>\n",
       "      <td>2023-03-01 00:46:19.019399</td>\n",
       "      <td>2023-03-01</td>\n",
       "      <td>0 days 00:38:32.019399</td>\n",
       "    </tr>\n",
       "    <tr>\n",
       "      <th>4</th>\n",
       "      <td>1523115</td>\n",
       "      <td>2023-03-01 00:09:03</td>\n",
       "      <td>2023-03-01 00:25:13.619056</td>\n",
       "      <td>2023-03-01</td>\n",
       "      <td>0 days 00:16:10.619056</td>\n",
       "    </tr>\n",
       "    <tr>\n",
       "      <th>...</th>\n",
       "      <td>...</td>\n",
       "      <td>...</td>\n",
       "      <td>...</td>\n",
       "      <td>...</td>\n",
       "      <td>...</td>\n",
       "    </tr>\n",
       "    <tr>\n",
       "      <th>14995</th>\n",
       "      <td>1538106</td>\n",
       "      <td>2023-03-27 23:37:05</td>\n",
       "      <td>2023-03-27 23:52:37.409378</td>\n",
       "      <td>2023-03-27</td>\n",
       "      <td>0 days 00:15:32.409378</td>\n",
       "    </tr>\n",
       "    <tr>\n",
       "      <th>14996</th>\n",
       "      <td>1538107</td>\n",
       "      <td>2023-03-27 23:47:38</td>\n",
       "      <td>2023-03-28 00:04:22.672912</td>\n",
       "      <td>2023-03-27</td>\n",
       "      <td>0 days 00:16:44.672912</td>\n",
       "    </tr>\n",
       "    <tr>\n",
       "      <th>14997</th>\n",
       "      <td>1538108</td>\n",
       "      <td>2023-03-27 23:50:16</td>\n",
       "      <td>2023-03-28 00:05:40.676238</td>\n",
       "      <td>2023-03-27</td>\n",
       "      <td>0 days 00:15:24.676238</td>\n",
       "    </tr>\n",
       "    <tr>\n",
       "      <th>14998</th>\n",
       "      <td>1538109</td>\n",
       "      <td>2023-03-27 23:52:44</td>\n",
       "      <td>2023-03-28 00:08:41.810358</td>\n",
       "      <td>2023-03-27</td>\n",
       "      <td>0 days 00:15:57.810358</td>\n",
       "    </tr>\n",
       "    <tr>\n",
       "      <th>14999</th>\n",
       "      <td>1538110</td>\n",
       "      <td>2023-03-27 23:58:20</td>\n",
       "      <td>2023-03-28 00:13:42.499311</td>\n",
       "      <td>2023-03-27</td>\n",
       "      <td>0 days 00:15:22.499311</td>\n",
       "    </tr>\n",
       "  </tbody>\n",
       "</table>\n",
       "<p>15000 rows × 5 columns</p>\n",
       "</div>"
      ],
      "text/plain": [
       "       order_id     order_placed_at         order_delivered_at  \\\n",
       "0       1523111 2023-03-01 00:00:59 2023-03-01 00:18:07.443132   \n",
       "1       1523112 2023-03-01 00:03:59 2023-03-01 00:19:34.925241   \n",
       "2       1523113 2023-03-01 00:07:22 2023-03-01 00:22:28.291385   \n",
       "3       1523114 2023-03-01 00:07:47 2023-03-01 00:46:19.019399   \n",
       "4       1523115 2023-03-01 00:09:03 2023-03-01 00:25:13.619056   \n",
       "...         ...                 ...                        ...   \n",
       "14995   1538106 2023-03-27 23:37:05 2023-03-27 23:52:37.409378   \n",
       "14996   1538107 2023-03-27 23:47:38 2023-03-28 00:04:22.672912   \n",
       "14997   1538108 2023-03-27 23:50:16 2023-03-28 00:05:40.676238   \n",
       "14998   1538109 2023-03-27 23:52:44 2023-03-28 00:08:41.810358   \n",
       "14999   1538110 2023-03-27 23:58:20 2023-03-28 00:13:42.499311   \n",
       "\n",
       "      order_placed_date       total_time_taken  \n",
       "0            2023-03-01 0 days 00:17:08.443132  \n",
       "1            2023-03-01 0 days 00:15:35.925241  \n",
       "2            2023-03-01 0 days 00:15:06.291385  \n",
       "3            2023-03-01 0 days 00:38:32.019399  \n",
       "4            2023-03-01 0 days 00:16:10.619056  \n",
       "...                 ...                    ...  \n",
       "14995        2023-03-27 0 days 00:15:32.409378  \n",
       "14996        2023-03-27 0 days 00:16:44.672912  \n",
       "14997        2023-03-27 0 days 00:15:24.676238  \n",
       "14998        2023-03-27 0 days 00:15:57.810358  \n",
       "14999        2023-03-27 0 days 00:15:22.499311  \n",
       "\n",
       "[15000 rows x 5 columns]"
      ]
     },
     "execution_count": 13,
     "metadata": {},
     "output_type": "execute_result"
    }
   ],
   "source": [
    "df"
   ]
  },
  {
   "cell_type": "code",
   "execution_count": 14,
   "id": "6ecfb9c0",
   "metadata": {},
   "outputs": [
    {
     "data": {
      "text/html": [
       "<div>\n",
       "<style scoped>\n",
       "    .dataframe tbody tr th:only-of-type {\n",
       "        vertical-align: middle;\n",
       "    }\n",
       "\n",
       "    .dataframe tbody tr th {\n",
       "        vertical-align: top;\n",
       "    }\n",
       "\n",
       "    .dataframe thead th {\n",
       "        text-align: right;\n",
       "    }\n",
       "</style>\n",
       "<table border=\"1\" class=\"dataframe\">\n",
       "  <thead>\n",
       "    <tr style=\"text-align: right;\">\n",
       "      <th></th>\n",
       "      <th>order_id</th>\n",
       "      <th>order_placed_at</th>\n",
       "      <th>order_delivered_at</th>\n",
       "      <th>order_placed_date</th>\n",
       "      <th>total_time_taken</th>\n",
       "      <th>Day</th>\n",
       "    </tr>\n",
       "  </thead>\n",
       "  <tbody>\n",
       "    <tr>\n",
       "      <th>0</th>\n",
       "      <td>1523111</td>\n",
       "      <td>2023-03-01 00:00:59</td>\n",
       "      <td>2023-03-01 00:18:07.443132</td>\n",
       "      <td>2023-03-01</td>\n",
       "      <td>0 days 00:17:08.443132</td>\n",
       "      <td>Wednesday</td>\n",
       "    </tr>\n",
       "    <tr>\n",
       "      <th>1</th>\n",
       "      <td>1523112</td>\n",
       "      <td>2023-03-01 00:03:59</td>\n",
       "      <td>2023-03-01 00:19:34.925241</td>\n",
       "      <td>2023-03-01</td>\n",
       "      <td>0 days 00:15:35.925241</td>\n",
       "      <td>Wednesday</td>\n",
       "    </tr>\n",
       "    <tr>\n",
       "      <th>2</th>\n",
       "      <td>1523113</td>\n",
       "      <td>2023-03-01 00:07:22</td>\n",
       "      <td>2023-03-01 00:22:28.291385</td>\n",
       "      <td>2023-03-01</td>\n",
       "      <td>0 days 00:15:06.291385</td>\n",
       "      <td>Wednesday</td>\n",
       "    </tr>\n",
       "    <tr>\n",
       "      <th>3</th>\n",
       "      <td>1523114</td>\n",
       "      <td>2023-03-01 00:07:47</td>\n",
       "      <td>2023-03-01 00:46:19.019399</td>\n",
       "      <td>2023-03-01</td>\n",
       "      <td>0 days 00:38:32.019399</td>\n",
       "      <td>Wednesday</td>\n",
       "    </tr>\n",
       "    <tr>\n",
       "      <th>4</th>\n",
       "      <td>1523115</td>\n",
       "      <td>2023-03-01 00:09:03</td>\n",
       "      <td>2023-03-01 00:25:13.619056</td>\n",
       "      <td>2023-03-01</td>\n",
       "      <td>0 days 00:16:10.619056</td>\n",
       "      <td>Wednesday</td>\n",
       "    </tr>\n",
       "    <tr>\n",
       "      <th>...</th>\n",
       "      <td>...</td>\n",
       "      <td>...</td>\n",
       "      <td>...</td>\n",
       "      <td>...</td>\n",
       "      <td>...</td>\n",
       "      <td>...</td>\n",
       "    </tr>\n",
       "    <tr>\n",
       "      <th>14995</th>\n",
       "      <td>1538106</td>\n",
       "      <td>2023-03-27 23:37:05</td>\n",
       "      <td>2023-03-27 23:52:37.409378</td>\n",
       "      <td>2023-03-27</td>\n",
       "      <td>0 days 00:15:32.409378</td>\n",
       "      <td>Monday</td>\n",
       "    </tr>\n",
       "    <tr>\n",
       "      <th>14996</th>\n",
       "      <td>1538107</td>\n",
       "      <td>2023-03-27 23:47:38</td>\n",
       "      <td>2023-03-28 00:04:22.672912</td>\n",
       "      <td>2023-03-27</td>\n",
       "      <td>0 days 00:16:44.672912</td>\n",
       "      <td>Monday</td>\n",
       "    </tr>\n",
       "    <tr>\n",
       "      <th>14997</th>\n",
       "      <td>1538108</td>\n",
       "      <td>2023-03-27 23:50:16</td>\n",
       "      <td>2023-03-28 00:05:40.676238</td>\n",
       "      <td>2023-03-27</td>\n",
       "      <td>0 days 00:15:24.676238</td>\n",
       "      <td>Monday</td>\n",
       "    </tr>\n",
       "    <tr>\n",
       "      <th>14998</th>\n",
       "      <td>1538109</td>\n",
       "      <td>2023-03-27 23:52:44</td>\n",
       "      <td>2023-03-28 00:08:41.810358</td>\n",
       "      <td>2023-03-27</td>\n",
       "      <td>0 days 00:15:57.810358</td>\n",
       "      <td>Monday</td>\n",
       "    </tr>\n",
       "    <tr>\n",
       "      <th>14999</th>\n",
       "      <td>1538110</td>\n",
       "      <td>2023-03-27 23:58:20</td>\n",
       "      <td>2023-03-28 00:13:42.499311</td>\n",
       "      <td>2023-03-27</td>\n",
       "      <td>0 days 00:15:22.499311</td>\n",
       "      <td>Monday</td>\n",
       "    </tr>\n",
       "  </tbody>\n",
       "</table>\n",
       "<p>15000 rows × 6 columns</p>\n",
       "</div>"
      ],
      "text/plain": [
       "       order_id     order_placed_at         order_delivered_at  \\\n",
       "0       1523111 2023-03-01 00:00:59 2023-03-01 00:18:07.443132   \n",
       "1       1523112 2023-03-01 00:03:59 2023-03-01 00:19:34.925241   \n",
       "2       1523113 2023-03-01 00:07:22 2023-03-01 00:22:28.291385   \n",
       "3       1523114 2023-03-01 00:07:47 2023-03-01 00:46:19.019399   \n",
       "4       1523115 2023-03-01 00:09:03 2023-03-01 00:25:13.619056   \n",
       "...         ...                 ...                        ...   \n",
       "14995   1538106 2023-03-27 23:37:05 2023-03-27 23:52:37.409378   \n",
       "14996   1538107 2023-03-27 23:47:38 2023-03-28 00:04:22.672912   \n",
       "14997   1538108 2023-03-27 23:50:16 2023-03-28 00:05:40.676238   \n",
       "14998   1538109 2023-03-27 23:52:44 2023-03-28 00:08:41.810358   \n",
       "14999   1538110 2023-03-27 23:58:20 2023-03-28 00:13:42.499311   \n",
       "\n",
       "      order_placed_date       total_time_taken        Day  \n",
       "0            2023-03-01 0 days 00:17:08.443132  Wednesday  \n",
       "1            2023-03-01 0 days 00:15:35.925241  Wednesday  \n",
       "2            2023-03-01 0 days 00:15:06.291385  Wednesday  \n",
       "3            2023-03-01 0 days 00:38:32.019399  Wednesday  \n",
       "4            2023-03-01 0 days 00:16:10.619056  Wednesday  \n",
       "...                 ...                    ...        ...  \n",
       "14995        2023-03-27 0 days 00:15:32.409378     Monday  \n",
       "14996        2023-03-27 0 days 00:16:44.672912     Monday  \n",
       "14997        2023-03-27 0 days 00:15:24.676238     Monday  \n",
       "14998        2023-03-27 0 days 00:15:57.810358     Monday  \n",
       "14999        2023-03-27 0 days 00:15:22.499311     Monday  \n",
       "\n",
       "[15000 rows x 6 columns]"
      ]
     },
     "execution_count": 14,
     "metadata": {},
     "output_type": "execute_result"
    }
   ],
   "source": [
    "df['Day']=df['order_placed_at'].dt.day_name()\n",
    "df"
   ]
  },
  {
   "cell_type": "code",
   "execution_count": 15,
   "id": "23fe38dd",
   "metadata": {},
   "outputs": [
    {
     "data": {
      "text/html": [
       "<div>\n",
       "<style scoped>\n",
       "    .dataframe tbody tr th:only-of-type {\n",
       "        vertical-align: middle;\n",
       "    }\n",
       "\n",
       "    .dataframe tbody tr th {\n",
       "        vertical-align: top;\n",
       "    }\n",
       "\n",
       "    .dataframe thead th {\n",
       "        text-align: right;\n",
       "    }\n",
       "</style>\n",
       "<table border=\"1\" class=\"dataframe\">\n",
       "  <thead>\n",
       "    <tr style=\"text-align: right;\">\n",
       "      <th></th>\n",
       "      <th>order_id</th>\n",
       "      <th>order_placed_at</th>\n",
       "      <th>order_delivered_at</th>\n",
       "      <th>order_placed_date</th>\n",
       "      <th>total_time_taken</th>\n",
       "      <th>Day</th>\n",
       "      <th>Date</th>\n",
       "    </tr>\n",
       "  </thead>\n",
       "  <tbody>\n",
       "    <tr>\n",
       "      <th>0</th>\n",
       "      <td>1523111</td>\n",
       "      <td>2023-03-01 00:00:59</td>\n",
       "      <td>2023-03-01 00:18:07.443132</td>\n",
       "      <td>2023-03-01</td>\n",
       "      <td>0 days 00:17:08.443132</td>\n",
       "      <td>Wednesday</td>\n",
       "      <td>1</td>\n",
       "    </tr>\n",
       "    <tr>\n",
       "      <th>1</th>\n",
       "      <td>1523112</td>\n",
       "      <td>2023-03-01 00:03:59</td>\n",
       "      <td>2023-03-01 00:19:34.925241</td>\n",
       "      <td>2023-03-01</td>\n",
       "      <td>0 days 00:15:35.925241</td>\n",
       "      <td>Wednesday</td>\n",
       "      <td>1</td>\n",
       "    </tr>\n",
       "    <tr>\n",
       "      <th>2</th>\n",
       "      <td>1523113</td>\n",
       "      <td>2023-03-01 00:07:22</td>\n",
       "      <td>2023-03-01 00:22:28.291385</td>\n",
       "      <td>2023-03-01</td>\n",
       "      <td>0 days 00:15:06.291385</td>\n",
       "      <td>Wednesday</td>\n",
       "      <td>1</td>\n",
       "    </tr>\n",
       "    <tr>\n",
       "      <th>3</th>\n",
       "      <td>1523114</td>\n",
       "      <td>2023-03-01 00:07:47</td>\n",
       "      <td>2023-03-01 00:46:19.019399</td>\n",
       "      <td>2023-03-01</td>\n",
       "      <td>0 days 00:38:32.019399</td>\n",
       "      <td>Wednesday</td>\n",
       "      <td>1</td>\n",
       "    </tr>\n",
       "    <tr>\n",
       "      <th>4</th>\n",
       "      <td>1523115</td>\n",
       "      <td>2023-03-01 00:09:03</td>\n",
       "      <td>2023-03-01 00:25:13.619056</td>\n",
       "      <td>2023-03-01</td>\n",
       "      <td>0 days 00:16:10.619056</td>\n",
       "      <td>Wednesday</td>\n",
       "      <td>1</td>\n",
       "    </tr>\n",
       "    <tr>\n",
       "      <th>...</th>\n",
       "      <td>...</td>\n",
       "      <td>...</td>\n",
       "      <td>...</td>\n",
       "      <td>...</td>\n",
       "      <td>...</td>\n",
       "      <td>...</td>\n",
       "      <td>...</td>\n",
       "    </tr>\n",
       "    <tr>\n",
       "      <th>14995</th>\n",
       "      <td>1538106</td>\n",
       "      <td>2023-03-27 23:37:05</td>\n",
       "      <td>2023-03-27 23:52:37.409378</td>\n",
       "      <td>2023-03-27</td>\n",
       "      <td>0 days 00:15:32.409378</td>\n",
       "      <td>Monday</td>\n",
       "      <td>27</td>\n",
       "    </tr>\n",
       "    <tr>\n",
       "      <th>14996</th>\n",
       "      <td>1538107</td>\n",
       "      <td>2023-03-27 23:47:38</td>\n",
       "      <td>2023-03-28 00:04:22.672912</td>\n",
       "      <td>2023-03-27</td>\n",
       "      <td>0 days 00:16:44.672912</td>\n",
       "      <td>Monday</td>\n",
       "      <td>27</td>\n",
       "    </tr>\n",
       "    <tr>\n",
       "      <th>14997</th>\n",
       "      <td>1538108</td>\n",
       "      <td>2023-03-27 23:50:16</td>\n",
       "      <td>2023-03-28 00:05:40.676238</td>\n",
       "      <td>2023-03-27</td>\n",
       "      <td>0 days 00:15:24.676238</td>\n",
       "      <td>Monday</td>\n",
       "      <td>27</td>\n",
       "    </tr>\n",
       "    <tr>\n",
       "      <th>14998</th>\n",
       "      <td>1538109</td>\n",
       "      <td>2023-03-27 23:52:44</td>\n",
       "      <td>2023-03-28 00:08:41.810358</td>\n",
       "      <td>2023-03-27</td>\n",
       "      <td>0 days 00:15:57.810358</td>\n",
       "      <td>Monday</td>\n",
       "      <td>27</td>\n",
       "    </tr>\n",
       "    <tr>\n",
       "      <th>14999</th>\n",
       "      <td>1538110</td>\n",
       "      <td>2023-03-27 23:58:20</td>\n",
       "      <td>2023-03-28 00:13:42.499311</td>\n",
       "      <td>2023-03-27</td>\n",
       "      <td>0 days 00:15:22.499311</td>\n",
       "      <td>Monday</td>\n",
       "      <td>27</td>\n",
       "    </tr>\n",
       "  </tbody>\n",
       "</table>\n",
       "<p>15000 rows × 7 columns</p>\n",
       "</div>"
      ],
      "text/plain": [
       "       order_id     order_placed_at         order_delivered_at  \\\n",
       "0       1523111 2023-03-01 00:00:59 2023-03-01 00:18:07.443132   \n",
       "1       1523112 2023-03-01 00:03:59 2023-03-01 00:19:34.925241   \n",
       "2       1523113 2023-03-01 00:07:22 2023-03-01 00:22:28.291385   \n",
       "3       1523114 2023-03-01 00:07:47 2023-03-01 00:46:19.019399   \n",
       "4       1523115 2023-03-01 00:09:03 2023-03-01 00:25:13.619056   \n",
       "...         ...                 ...                        ...   \n",
       "14995   1538106 2023-03-27 23:37:05 2023-03-27 23:52:37.409378   \n",
       "14996   1538107 2023-03-27 23:47:38 2023-03-28 00:04:22.672912   \n",
       "14997   1538108 2023-03-27 23:50:16 2023-03-28 00:05:40.676238   \n",
       "14998   1538109 2023-03-27 23:52:44 2023-03-28 00:08:41.810358   \n",
       "14999   1538110 2023-03-27 23:58:20 2023-03-28 00:13:42.499311   \n",
       "\n",
       "      order_placed_date       total_time_taken        Day  Date  \n",
       "0            2023-03-01 0 days 00:17:08.443132  Wednesday     1  \n",
       "1            2023-03-01 0 days 00:15:35.925241  Wednesday     1  \n",
       "2            2023-03-01 0 days 00:15:06.291385  Wednesday     1  \n",
       "3            2023-03-01 0 days 00:38:32.019399  Wednesday     1  \n",
       "4            2023-03-01 0 days 00:16:10.619056  Wednesday     1  \n",
       "...                 ...                    ...        ...   ...  \n",
       "14995        2023-03-27 0 days 00:15:32.409378     Monday    27  \n",
       "14996        2023-03-27 0 days 00:16:44.672912     Monday    27  \n",
       "14997        2023-03-27 0 days 00:15:24.676238     Monday    27  \n",
       "14998        2023-03-27 0 days 00:15:57.810358     Monday    27  \n",
       "14999        2023-03-27 0 days 00:15:22.499311     Monday    27  \n",
       "\n",
       "[15000 rows x 7 columns]"
      ]
     },
     "execution_count": 15,
     "metadata": {},
     "output_type": "execute_result"
    }
   ],
   "source": [
    "df['Date']=df[\"order_placed_at\"].dt.day\n",
    "df"
   ]
  },
  {
   "cell_type": "code",
   "execution_count": 16,
   "id": "659569ed",
   "metadata": {},
   "outputs": [
    {
     "data": {
      "text/html": [
       "<div>\n",
       "<style scoped>\n",
       "    .dataframe tbody tr th:only-of-type {\n",
       "        vertical-align: middle;\n",
       "    }\n",
       "\n",
       "    .dataframe tbody tr th {\n",
       "        vertical-align: top;\n",
       "    }\n",
       "\n",
       "    .dataframe thead th {\n",
       "        text-align: right;\n",
       "    }\n",
       "</style>\n",
       "<table border=\"1\" class=\"dataframe\">\n",
       "  <thead>\n",
       "    <tr style=\"text-align: right;\">\n",
       "      <th></th>\n",
       "      <th>order_id</th>\n",
       "      <th>order_placed_at</th>\n",
       "      <th>order_delivered_at</th>\n",
       "      <th>order_placed_date</th>\n",
       "      <th>total_time_taken</th>\n",
       "      <th>Day</th>\n",
       "      <th>Date</th>\n",
       "      <th>total_time_taken_min</th>\n",
       "    </tr>\n",
       "  </thead>\n",
       "  <tbody>\n",
       "    <tr>\n",
       "      <th>0</th>\n",
       "      <td>1523111</td>\n",
       "      <td>2023-03-01 00:00:59</td>\n",
       "      <td>2023-03-01 00:18:07.443132</td>\n",
       "      <td>2023-03-01</td>\n",
       "      <td>0 days 00:17:08.443132</td>\n",
       "      <td>Wednesday</td>\n",
       "      <td>1</td>\n",
       "      <td>17.140719</td>\n",
       "    </tr>\n",
       "    <tr>\n",
       "      <th>1</th>\n",
       "      <td>1523112</td>\n",
       "      <td>2023-03-01 00:03:59</td>\n",
       "      <td>2023-03-01 00:19:34.925241</td>\n",
       "      <td>2023-03-01</td>\n",
       "      <td>0 days 00:15:35.925241</td>\n",
       "      <td>Wednesday</td>\n",
       "      <td>1</td>\n",
       "      <td>15.598754</td>\n",
       "    </tr>\n",
       "    <tr>\n",
       "      <th>2</th>\n",
       "      <td>1523113</td>\n",
       "      <td>2023-03-01 00:07:22</td>\n",
       "      <td>2023-03-01 00:22:28.291385</td>\n",
       "      <td>2023-03-01</td>\n",
       "      <td>0 days 00:15:06.291385</td>\n",
       "      <td>Wednesday</td>\n",
       "      <td>1</td>\n",
       "      <td>15.104856</td>\n",
       "    </tr>\n",
       "    <tr>\n",
       "      <th>3</th>\n",
       "      <td>1523114</td>\n",
       "      <td>2023-03-01 00:07:47</td>\n",
       "      <td>2023-03-01 00:46:19.019399</td>\n",
       "      <td>2023-03-01</td>\n",
       "      <td>0 days 00:38:32.019399</td>\n",
       "      <td>Wednesday</td>\n",
       "      <td>1</td>\n",
       "      <td>38.533657</td>\n",
       "    </tr>\n",
       "    <tr>\n",
       "      <th>4</th>\n",
       "      <td>1523115</td>\n",
       "      <td>2023-03-01 00:09:03</td>\n",
       "      <td>2023-03-01 00:25:13.619056</td>\n",
       "      <td>2023-03-01</td>\n",
       "      <td>0 days 00:16:10.619056</td>\n",
       "      <td>Wednesday</td>\n",
       "      <td>1</td>\n",
       "      <td>16.176984</td>\n",
       "    </tr>\n",
       "    <tr>\n",
       "      <th>...</th>\n",
       "      <td>...</td>\n",
       "      <td>...</td>\n",
       "      <td>...</td>\n",
       "      <td>...</td>\n",
       "      <td>...</td>\n",
       "      <td>...</td>\n",
       "      <td>...</td>\n",
       "      <td>...</td>\n",
       "    </tr>\n",
       "    <tr>\n",
       "      <th>14995</th>\n",
       "      <td>1538106</td>\n",
       "      <td>2023-03-27 23:37:05</td>\n",
       "      <td>2023-03-27 23:52:37.409378</td>\n",
       "      <td>2023-03-27</td>\n",
       "      <td>0 days 00:15:32.409378</td>\n",
       "      <td>Monday</td>\n",
       "      <td>27</td>\n",
       "      <td>15.540156</td>\n",
       "    </tr>\n",
       "    <tr>\n",
       "      <th>14996</th>\n",
       "      <td>1538107</td>\n",
       "      <td>2023-03-27 23:47:38</td>\n",
       "      <td>2023-03-28 00:04:22.672912</td>\n",
       "      <td>2023-03-27</td>\n",
       "      <td>0 days 00:16:44.672912</td>\n",
       "      <td>Monday</td>\n",
       "      <td>27</td>\n",
       "      <td>16.744549</td>\n",
       "    </tr>\n",
       "    <tr>\n",
       "      <th>14997</th>\n",
       "      <td>1538108</td>\n",
       "      <td>2023-03-27 23:50:16</td>\n",
       "      <td>2023-03-28 00:05:40.676238</td>\n",
       "      <td>2023-03-27</td>\n",
       "      <td>0 days 00:15:24.676238</td>\n",
       "      <td>Monday</td>\n",
       "      <td>27</td>\n",
       "      <td>15.411271</td>\n",
       "    </tr>\n",
       "    <tr>\n",
       "      <th>14998</th>\n",
       "      <td>1538109</td>\n",
       "      <td>2023-03-27 23:52:44</td>\n",
       "      <td>2023-03-28 00:08:41.810358</td>\n",
       "      <td>2023-03-27</td>\n",
       "      <td>0 days 00:15:57.810358</td>\n",
       "      <td>Monday</td>\n",
       "      <td>27</td>\n",
       "      <td>15.963506</td>\n",
       "    </tr>\n",
       "    <tr>\n",
       "      <th>14999</th>\n",
       "      <td>1538110</td>\n",
       "      <td>2023-03-27 23:58:20</td>\n",
       "      <td>2023-03-28 00:13:42.499311</td>\n",
       "      <td>2023-03-27</td>\n",
       "      <td>0 days 00:15:22.499311</td>\n",
       "      <td>Monday</td>\n",
       "      <td>27</td>\n",
       "      <td>15.374989</td>\n",
       "    </tr>\n",
       "  </tbody>\n",
       "</table>\n",
       "<p>15000 rows × 8 columns</p>\n",
       "</div>"
      ],
      "text/plain": [
       "       order_id     order_placed_at         order_delivered_at  \\\n",
       "0       1523111 2023-03-01 00:00:59 2023-03-01 00:18:07.443132   \n",
       "1       1523112 2023-03-01 00:03:59 2023-03-01 00:19:34.925241   \n",
       "2       1523113 2023-03-01 00:07:22 2023-03-01 00:22:28.291385   \n",
       "3       1523114 2023-03-01 00:07:47 2023-03-01 00:46:19.019399   \n",
       "4       1523115 2023-03-01 00:09:03 2023-03-01 00:25:13.619056   \n",
       "...         ...                 ...                        ...   \n",
       "14995   1538106 2023-03-27 23:37:05 2023-03-27 23:52:37.409378   \n",
       "14996   1538107 2023-03-27 23:47:38 2023-03-28 00:04:22.672912   \n",
       "14997   1538108 2023-03-27 23:50:16 2023-03-28 00:05:40.676238   \n",
       "14998   1538109 2023-03-27 23:52:44 2023-03-28 00:08:41.810358   \n",
       "14999   1538110 2023-03-27 23:58:20 2023-03-28 00:13:42.499311   \n",
       "\n",
       "      order_placed_date       total_time_taken        Day  Date  \\\n",
       "0            2023-03-01 0 days 00:17:08.443132  Wednesday     1   \n",
       "1            2023-03-01 0 days 00:15:35.925241  Wednesday     1   \n",
       "2            2023-03-01 0 days 00:15:06.291385  Wednesday     1   \n",
       "3            2023-03-01 0 days 00:38:32.019399  Wednesday     1   \n",
       "4            2023-03-01 0 days 00:16:10.619056  Wednesday     1   \n",
       "...                 ...                    ...        ...   ...   \n",
       "14995        2023-03-27 0 days 00:15:32.409378     Monday    27   \n",
       "14996        2023-03-27 0 days 00:16:44.672912     Monday    27   \n",
       "14997        2023-03-27 0 days 00:15:24.676238     Monday    27   \n",
       "14998        2023-03-27 0 days 00:15:57.810358     Monday    27   \n",
       "14999        2023-03-27 0 days 00:15:22.499311     Monday    27   \n",
       "\n",
       "       total_time_taken_min  \n",
       "0                 17.140719  \n",
       "1                 15.598754  \n",
       "2                 15.104856  \n",
       "3                 38.533657  \n",
       "4                 16.176984  \n",
       "...                     ...  \n",
       "14995             15.540156  \n",
       "14996             16.744549  \n",
       "14997             15.411271  \n",
       "14998             15.963506  \n",
       "14999             15.374989  \n",
       "\n",
       "[15000 rows x 8 columns]"
      ]
     },
     "execution_count": 16,
     "metadata": {},
     "output_type": "execute_result"
    }
   ],
   "source": [
    "df['total_time_taken_min'] = df['total_time_taken'].dt.total_seconds()/60\n",
    "df\n"
   ]
  },
  {
   "cell_type": "code",
   "execution_count": 17,
   "id": "66f92b47",
   "metadata": {},
   "outputs": [
    {
     "data": {
      "text/plain": [
       "20.499389326467746"
      ]
     },
     "execution_count": 17,
     "metadata": {},
     "output_type": "execute_result"
    }
   ],
   "source": [
    "df['total_time_taken_min'].mean()"
   ]
  },
  {
   "cell_type": "code",
   "execution_count": 18,
   "id": "de76c3c3",
   "metadata": {},
   "outputs": [
    {
     "data": {
      "text/plain": [
       "15.797986066666668"
      ]
     },
     "execution_count": 18,
     "metadata": {},
     "output_type": "execute_result"
    }
   ],
   "source": [
    "df['total_time_taken_min'].median()"
   ]
  },
  {
   "cell_type": "code",
   "execution_count": 19,
   "id": "c8dc04c0",
   "metadata": {},
   "outputs": [
    {
     "data": {
      "text/plain": [
       "96.1603618021647"
      ]
     },
     "execution_count": 19,
     "metadata": {},
     "output_type": "execute_result"
    }
   ],
   "source": [
    "df['total_time_taken_min'].std()"
   ]
  },
  {
   "cell_type": "code",
   "execution_count": 20,
   "id": "49796b10",
   "metadata": {},
   "outputs": [
    {
     "data": {
      "text/plain": [
       "<AxesSubplot:>"
      ]
     },
     "execution_count": 20,
     "metadata": {},
     "output_type": "execute_result"
    },
    {
     "data": {
      "image/png": "[encoded data removed]",
      "text/plain": [
       "<Figure size 432x288 with 1 Axes>"
      ]
     },
     "metadata": {
      "needs_background": "light"
     },
     "output_type": "display_data"
    }
   ],
   "source": [
    "df['total_time_taken_min'].plot(kind='box')"
   ]
  },
  {
   "cell_type": "code",
   "execution_count": 21,
   "id": "760ffd94",
   "metadata": {},
   "outputs": [
    {
     "data": {
      "text/plain": [
       "(14669, 8)"
      ]
     },
     "execution_count": 21,
     "metadata": {},
     "output_type": "execute_result"
    }
   ],
   "source": [
    "clean_df=df[df['total_time_taken_min']<40]                            #### There is 331 pizza who takes more than 40 minutes..\n",
    "clean_df.shape"
   ]
  },
  {
   "cell_type": "code",
   "execution_count": 22,
   "id": "fc3a471f",
   "metadata": {},
   "outputs": [
    {
     "data": {
      "text/plain": [
       "<AxesSubplot:>"
      ]
     },
     "execution_count": 22,
     "metadata": {},
     "output_type": "execute_result"
    },
    {
     "data": {
      "image/png": "[encoded data removed]",
      "text/plain": [
       "<Figure size 720x360 with 1 Axes>"
      ]
     },
     "metadata": {
      "needs_background": "light"
     },
     "output_type": "display_data"
    }
   ],
   "source": [
    "clean_df['total_time_taken_min'].plot(kind='box',figsize=(10,5))"
   ]
  },
  {
   "cell_type": "code",
   "execution_count": 23,
   "id": "e1a1f0e9",
   "metadata": {},
   "outputs": [
    {
     "data": {
      "text/plain": [
       "16.992519561709482"
      ]
     },
     "execution_count": 23,
     "metadata": {},
     "output_type": "execute_result"
    }
   ],
   "source": [
    "clean_df['total_time_taken_min'].mean()"
   ]
  },
  {
   "cell_type": "code",
   "execution_count": 24,
   "id": "366f73a6",
   "metadata": {},
   "outputs": [
    {
     "data": {
      "text/plain": [
       "15.763923250000001"
      ]
     },
     "execution_count": 24,
     "metadata": {},
     "output_type": "execute_result"
    }
   ],
   "source": [
    "clean_df['total_time_taken_min'].median()"
   ]
  },
  {
   "cell_type": "code",
   "execution_count": 25,
   "id": "59a883f2",
   "metadata": {},
   "outputs": [
    {
     "data": {
      "text/plain": [
       "39.91894656666667"
      ]
     },
     "execution_count": 25,
     "metadata": {},
     "output_type": "execute_result"
    }
   ],
   "source": [
    "clean_df['total_time_taken_min'].max()"
   ]
  },
  {
   "cell_type": "code",
   "execution_count": 26,
   "id": "32d7770a",
   "metadata": {},
   "outputs": [
    {
     "data": {
      "text/plain": [
       "15.000010333333334"
      ]
     },
     "execution_count": 26,
     "metadata": {},
     "output_type": "execute_result"
    }
   ],
   "source": [
    "clean_df['total_time_taken_min'].min()"
   ]
  },
  {
   "cell_type": "code",
   "execution_count": 27,
   "id": "1ef67af0",
   "metadata": {},
   "outputs": [
    {
     "data": {
      "text/plain": [
       "15.266571800000001"
      ]
     },
     "execution_count": 27,
     "metadata": {},
     "output_type": "execute_result"
    }
   ],
   "source": [
    "clean_df['total_time_taken_min'].quantile(0.25)"
   ]
  },
  {
   "cell_type": "code",
   "execution_count": 28,
   "id": "e2db5f1a",
   "metadata": {},
   "outputs": [
    {
     "data": {
      "text/plain": [
       "17.0995124"
      ]
     },
     "execution_count": 28,
     "metadata": {},
     "output_type": "execute_result"
    }
   ],
   "source": [
    "clean_df['total_time_taken_min'].quantile(0.75)"
   ]
  },
  {
   "cell_type": "code",
   "execution_count": 29,
   "id": "1ab78f89",
   "metadata": {},
   "outputs": [
    {
     "data": {
      "text/plain": [
       "23.596276583333314"
      ]
     },
     "execution_count": 29,
     "metadata": {},
     "output_type": "execute_result"
    }
   ],
   "source": [
    "clean_df['total_time_taken_min'].quantile(0.95)"
   ]
  },
  {
   "cell_type": "code",
   "execution_count": 30,
   "id": "4502e2d2",
   "metadata": {},
   "outputs": [
    {
     "data": {
      "text/plain": [
       "(226, 8)"
      ]
     },
     "execution_count": 30,
     "metadata": {},
     "output_type": "execute_result"
    }
   ],
   "source": [
    "clean_df[clean_df['total_time_taken_min']>31].shape"
   ]
  },
  {
   "cell_type": "code",
   "execution_count": null,
   "id": "3a5cc7c3",
   "metadata": {},
   "outputs": [],
   "source": []
  },
  {
   "cell_type": "markdown",
   "id": "dce8d2cc",
   "metadata": {},
   "source": [
    "#### =============== MAXIMUM/MINIMUM ORDER PLACED================="
   ]
  },
  {
   "cell_type": "code",
   "execution_count": 31,
   "id": "af532e89",
   "metadata": {},
   "outputs": [],
   "source": [
    "## Date of Maximum/Minimum orders"
   ]
  },
  {
   "cell_type": "code",
   "execution_count": 32,
   "id": "0e6207ef",
   "metadata": {},
   "outputs": [
    {
     "data": {
      "text/plain": [
       "2023-03-20    597\n",
       "2023-03-22    591\n",
       "2023-03-02    588\n",
       "2023-03-10    587\n",
       "2023-03-23    583\n",
       "2023-03-06    582\n",
       "2023-03-12    582\n",
       "2023-03-08    578\n",
       "2023-03-07    570\n",
       "2023-03-04    567\n",
       "2023-03-24    565\n",
       "2023-03-09    564\n",
       "2023-03-18    559\n",
       "2023-03-27    551\n",
       "2023-03-05    551\n",
       "2023-03-01    550\n",
       "2023-03-25    547\n",
       "2023-03-16    545\n",
       "2023-03-15    540\n",
       "2023-03-17    537\n",
       "2023-03-11    536\n",
       "2023-03-03    534\n",
       "2023-03-26    532\n",
       "2023-03-19    526\n",
       "2023-03-13    526\n",
       "2023-03-21    520\n",
       "2023-03-14    492\n",
       "Name: order_placed_date, dtype: int64"
      ]
     },
     "execution_count": 32,
     "metadata": {},
     "output_type": "execute_result"
    }
   ],
   "source": [
    "df['order_placed_date'].value_counts()              "
   ]
  },
  {
   "cell_type": "code",
   "execution_count": 33,
   "id": "755ce1ea",
   "metadata": {},
   "outputs": [
    {
     "data": {
      "text/plain": [
       "<AxesSubplot:>"
      ]
     },
     "execution_count": 33,
     "metadata": {},
     "output_type": "execute_result"
    },
    {
     "data": {
      "image/png": "[encoded data removed]",
      "text/plain": [
       "<Figure size 720x504 with 1 Axes>"
      ]
     },
     "metadata": {
      "needs_background": "light"
     },
     "output_type": "display_data"
    }
   ],
   "source": [
    "clean_df['Date'].value_counts().sort_values().plot(kind='barh',figsize=(10,7))"
   ]
  },
  {
   "cell_type": "code",
   "execution_count": 34,
   "id": "891c7d9b",
   "metadata": {},
   "outputs": [
    {
     "data": {
      "text/plain": [
       "<AxesSubplot:>"
      ]
     },
     "execution_count": 34,
     "metadata": {},
     "output_type": "execute_result"
    },
    {
     "data": {
      "image/png": "[encoded data removed]",
      "text/plain": [
       "<Figure size 720x504 with 1 Axes>"
      ]
     },
     "metadata": {
      "needs_background": "light"
     },
     "output_type": "display_data"
    }
   ],
   "source": [
    "clean_df['Date'].value_counts().sort_index().plot(kind='line',figsize=(10,7))"
   ]
  },
  {
   "cell_type": "markdown",
   "id": "62040da9",
   "metadata": {},
   "source": [
    "---------------Maximum order placed at 20th march with 597 orders--------------\n",
    "---------------Minimum order placed at 14th March with 492 orders--------------"
   ]
  },
  {
   "cell_type": "code",
   "execution_count": 35,
   "id": "fdc00834",
   "metadata": {},
   "outputs": [],
   "source": [
    "#### Day of Maximum/Minimum Orders"
   ]
  },
  {
   "cell_type": "code",
   "execution_count": 36,
   "id": "e993b800",
   "metadata": {},
   "outputs": [
    {
     "data": {
      "text/plain": [
       "<AxesSubplot:>"
      ]
     },
     "execution_count": 36,
     "metadata": {},
     "output_type": "execute_result"
    },
    {
     "data": {
      "image/png": "[encoded data removed]",
      "text/plain": [
       "<Figure size 720x504 with 1 Axes>"
      ]
     },
     "metadata": {
      "needs_background": "light"
     },
     "output_type": "display_data"
    }
   ],
   "source": [
    "clean_df['Day'].value_counts().plot(kind='bar',figsize=(10,7))"
   ]
  },
  {
   "cell_type": "code",
   "execution_count": 37,
   "id": "0506f2e8",
   "metadata": {},
   "outputs": [
    {
     "data": {
      "text/plain": [
       "Thursday     2232\n",
       "Wednesday    2212\n",
       "Monday       2197\n",
       "Friday       2184\n",
       "Saturday     2165\n",
       "Sunday       2139\n",
       "Tuesday      1540\n",
       "Name: Day, dtype: int64"
      ]
     },
     "execution_count": 37,
     "metadata": {},
     "output_type": "execute_result"
    }
   ],
   "source": [
    "clean_df['Day'].value_counts()"
   ]
  },
  {
   "cell_type": "markdown",
   "id": "5d8b3e37",
   "metadata": {},
   "source": [
    "----------------Maximum order placed on Thursday with 2280 orders-----------\n",
    "----------------Minimum order placed on Tuesday with 1582 orders------------"
   ]
  },
  {
   "cell_type": "code",
   "execution_count": null,
   "id": "fadba45b",
   "metadata": {},
   "outputs": [],
   "source": []
  },
  {
   "cell_type": "markdown",
   "id": "0ddc57bf",
   "metadata": {},
   "source": [
    "#### ====================AVERAGE ORDER===================="
   ]
  },
  {
   "cell_type": "code",
   "execution_count": 38,
   "id": "75cf5b04",
   "metadata": {},
   "outputs": [
    {
     "data": {
      "text/plain": [
       "555.5555555555555"
      ]
     },
     "execution_count": 38,
     "metadata": {},
     "output_type": "execute_result"
    }
   ],
   "source": [
    "df['order_placed_date'].value_counts().mean()"
   ]
  },
  {
   "cell_type": "markdown",
   "id": "8614c76e",
   "metadata": {},
   "source": [
    "------------Average order placed per day=555---------------"
   ]
  },
  {
   "cell_type": "code",
   "execution_count": null,
   "id": "4d4e4f02",
   "metadata": {},
   "outputs": [],
   "source": []
  },
  {
   "cell_type": "code",
   "execution_count": null,
   "id": "89a675bb",
   "metadata": {},
   "outputs": [],
   "source": []
  },
  {
   "cell_type": "code",
   "execution_count": null,
   "id": "653d5ba6",
   "metadata": {},
   "outputs": [],
   "source": []
  },
  {
   "cell_type": "code",
   "execution_count": null,
   "id": "d74787f4",
   "metadata": {},
   "outputs": [],
   "source": []
  },
  {
   "cell_type": "code",
   "execution_count": null,
   "id": "195214b4",
   "metadata": {},
   "outputs": [],
   "source": []
  }
 ],
 "metadata": {
  "kernelspec": {
   "display_name": "Python 3 (ipykernel)",
   "language": "python",
   "name": "python3"
  },
  "language_info": {
   "codemirror_mode": {
    "name": "ipython",
    "version": 3
   },
   "file_extension": ".py",
   "mimetype": "text/x-python",
   "name": "python",
   "nbconvert_exporter": "python",
   "pygments_lexer": "ipython3",
   "version": "3.9.7"
  }
 },
 "nbformat": 4,
 "nbformat_minor": 5
}
